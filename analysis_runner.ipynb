{
 "cells": [
  {
   "cell_type": "code",
   "execution_count": null,
   "metadata": {},
   "outputs": [],
   "source": [
    "import arviz as az\n",
    "from pathlib import Path\n",
    "from datetime import datetime\n",
    "import yaml\n",
    "\n",
    "from estival.sampling import tools as esamptools\n",
    "\n",
    "import utils as ut\n",
    "import model as md\n",
    "\n",
    "parent_output_folder = Path.cwd() / \"outputs\""
   ]
  },
  {
   "cell_type": "code",
   "execution_count": 2,
   "metadata": {},
   "outputs": [],
   "source": [
    "TEST_ANALYSIS_CONFIG = {\n",
    "    'opti_budget': 100,\n",
    "\n",
    "    'mcmc_chains': 4,\n",
    "    'mcmc_cores': 4,\n",
    "    'mcmc_tune': 100,\n",
    "    'mcmc_samples': 100,\n",
    "\n",
    "    'full_runs_burnin': 50,\n",
    "    'full_runs_samples': 100,\n",
    "}\n",
    "\n",
    "FULL_ANALYSIS_CONFIG = {\n",
    "    'opti_budget': 10000,\n",
    "\n",
    "    'mcmc_chains': 4,\n",
    "    'mcmc_cores': 4,\n",
    "    'mcmc_tune': 1000,\n",
    "    'mcmc_samples': 5000,\n",
    "\n",
    "    'full_runs_burnin': 2000,\n",
    "    'full_runs_samples': 1000,\n",
    "}"
   ]
  },
  {
   "cell_type": "code",
   "execution_count": 3,
   "metadata": {},
   "outputs": [],
   "source": [
    "model_config = {\n",
    "    \"start_time\": 1850,\n",
    "    \"end_time\": 2050,\n",
    "    \"population\": 1.e6,\n",
    "    \"seed\": 100,   \n",
    "    \"intervention_time\": 2025,\n",
    "}\n",
    "\n",
    "intervention_params = {\n",
    "    \"transmission_reduction\": {\n",
    "        \"rel_reduction\": .20\n",
    "    },\n",
    "    \"preventive_treatment\": {\n",
    "        \"rate\": .10,\n",
    "        \"efficacy\": .8\n",
    "    },\n",
    "    \"faster_detection\": {\n",
    "        \"detection_rate_mutliplier\": 2.\n",
    "    },\n",
    "    \"improved_treatment\": {\n",
    "        \"negative_outcomes_rel_reduction\": .50\n",
    "    }\n",
    "}"
   ]
  },
  {
   "cell_type": "markdown",
   "metadata": {},
   "source": [
    "# Optimisation"
   ]
  },
  {
   "cell_type": "markdown",
   "metadata": {},
   "source": [
    "### Find optimal parameter set, varying all parameters, using model with no intervention"
   ]
  },
  {
   "cell_type": "code",
   "execution_count": 4,
   "metadata": {},
   "outputs": [],
   "source": [
    "model = md.get_tb_model(model_config, intervention_params, active_interventions=[])\n",
    "mle_params = ut.find_mle(model, opti_budget=analysis_config['opti_budget'])\n",
    "\n",
    "with open(\"mle_params.yml\", 'w') as file:\n",
    "    yaml.dump(mle_params, file, default_flow_style=False)"
   ]
  },
  {
   "cell_type": "markdown",
   "metadata": {},
   "source": [
    "### Check optimal model fit"
   ]
  },
  {
   "cell_type": "code",
   "execution_count": 3,
   "metadata": {},
   "outputs": [],
   "source": [
    "model.run(ut.default_params | mle_params)\n",
    "do = model.get_derived_outputs_df()\n",
    "do['tb_prevalence_per100k'].loc[2010:].plot()\n",
    "ut.target_data.plot(style='.',color='red')"
   ]
  },
  {
   "cell_type": "markdown",
   "metadata": {},
   "source": [
    "# Main Analysis "
   ]
  },
  {
   "cell_type": "code",
   "execution_count": 4,
   "metadata": {},
   "outputs": [],
   "source": [
    "mle_path = Path.cwd() / \"data\" / \"mle_params.yml\"\n",
    "with open(mle_path, 'r') as file:\n",
    "    mle_params = yaml.safe_load(file)"
   ]
  },
  {
   "cell_type": "code",
   "execution_count": null,
   "metadata": {},
   "outputs": [],
   "source": [
    "fixed_param = None\n",
    "analysis_config = TEST_ANALYSIS_CONFIG\n",
    "analysis_name = 'test' \n",
    "folder_path = parent_output_folder / f\"{datetime.now().strftime('%Y_%m_%d@%H_%M_%S')}_{analysis_name}_fixed_{fixed_param}\"\n",
    "\n",
    "ut.run_analysis(fixed_param, mle_params, analysis_config, model_config, intervention_params, folder_path, home_path=Path.cwd())"
   ]
  },
  {
   "cell_type": "code",
   "execution_count": null,
   "metadata": {},
   "outputs": [],
   "source": []
  }
 ],
 "metadata": {
  "kernelspec": {
   "display_name": "summer2",
   "language": "python",
   "name": "python3"
  },
  "language_info": {
   "codemirror_mode": {
    "name": "ipython",
    "version": 3
   },
   "file_extension": ".py",
   "mimetype": "text/x-python",
   "name": "python",
   "nbconvert_exporter": "python",
   "pygments_lexer": "ipython3",
   "version": "3.10.11"
  }
 },
 "nbformat": 4,
 "nbformat_minor": 2
}
