{
 "cells": [
  {
   "cell_type": "code",
   "execution_count": 9,
   "metadata": {},
   "outputs": [],
   "source": [
    "import arviz as az\n",
    "from pathlib import Path\n",
    "from datetime import datetime\n",
    "import yaml\n",
    "\n",
    "from estival.sampling import tools as esamptools\n",
    "\n",
    "import utils as ut\n",
    "import model as md\n",
    "\n",
    "parent_output_folder = Path.cwd() / \"outputs\""
   ]
  },
  {
   "cell_type": "code",
   "execution_count": 10,
   "metadata": {},
   "outputs": [],
   "source": [
    "TEST_ANALYSIS_CONFIG = {\n",
    "    'opti_budget': 100,\n",
    "\n",
    "    'mcmc_chains': 4,\n",
    "    'mcmc_cores': 4,\n",
    "    'mcmc_tune': 100,\n",
    "    'mcmc_samples': 100,\n",
    "\n",
    "    'full_runs_burnin': 50,\n",
    "    'full_runs_samples': 100,\n",
    "}\n",
    "\n",
    "FULL_ANALYSIS_CONFIG = {\n",
    "    'opti_budget': 10000,\n",
    "\n",
    "    'mcmc_chains': 4,\n",
    "    'mcmc_cores': 4,\n",
    "    'mcmc_tune': 1000,\n",
    "    'mcmc_samples': 5000,\n",
    "\n",
    "    'full_runs_burnin': 2000,\n",
    "    'full_runs_samples': 1000,\n",
    "}"
   ]
  },
  {
   "cell_type": "code",
   "execution_count": 11,
   "metadata": {},
   "outputs": [],
   "source": [
    "model_config = {\n",
    "    \"start_time\": 1850,\n",
    "    \"end_time\": 2050,\n",
    "    \"population\": 1.e6,\n",
    "    \"seed\": 100,   \n",
    "    \"intervention_time\": 2025,\n",
    "}\n",
    "\n",
    "intervention_params = {\n",
    "    \"transmission_reduction\": {\n",
    "        \"rel_reduction\": .20\n",
    "    },\n",
    "    \"preventive_treatment\": {\n",
    "        \"rate\": .10,\n",
    "        \"efficacy\": .8\n",
    "    },\n",
    "    \"faster_detection\": {\n",
    "        \"detection_rate_mutliplier\": 2.\n",
    "    },\n",
    "    \"improved_treatment\": {\n",
    "        \"negative_outcomes_rel_reduction\": .50\n",
    "    }\n",
    "}"
   ]
  },
  {
   "cell_type": "markdown",
   "metadata": {},
   "source": [
    "# Optimisation"
   ]
  },
  {
   "cell_type": "markdown",
   "metadata": {},
   "source": [
    "### Find optimal parameter set, varying all parameters, using model with no intervention"
   ]
  },
  {
   "cell_type": "code",
   "execution_count": 4,
   "metadata": {},
   "outputs": [],
   "source": [
    "model = md.get_tb_model(model_config, intervention_params, active_interventions=[])\n",
    "mle_params = ut.find_mle(model, opti_budget=analysis_config['opti_budget'])\n",
    "\n",
    "with open(\"mle_params.yml\", 'w') as file:\n",
    "    yaml.dump(mle_params, file, default_flow_style=False)"
   ]
  },
  {
   "cell_type": "markdown",
   "metadata": {},
   "source": [
    "### Check optimal model fit"
   ]
  },
  {
   "cell_type": "code",
   "execution_count": 3,
   "metadata": {},
   "outputs": [],
   "source": [
    "model.run(ut.default_params | mle_params)\n",
    "do = model.get_derived_outputs_df()\n",
    "do['tb_prevalence_per100k'].loc[2010:].plot()\n",
    "ut.target_data.plot(style='.',color='red')"
   ]
  },
  {
   "cell_type": "markdown",
   "metadata": {},
   "source": [
    "# Main Analysis "
   ]
  },
  {
   "cell_type": "markdown",
   "metadata": {},
   "source": [
    "### Run Metropolis sampling "
   ]
  },
  {
   "cell_type": "code",
   "execution_count": 12,
   "metadata": {},
   "outputs": [],
   "source": [
    "mle_path = Path.cwd() / \"data\" / \"mle_params.yml\"\n",
    "with open(mle_path, 'r') as file:\n",
    "    mle_params = yaml.safe_load(file)"
   ]
  },
  {
   "cell_type": "code",
   "execution_count": 17,
   "metadata": {},
   "outputs": [],
   "source": [
    "from copy import deepcopy\n",
    "\n",
    "def run_analysis(fixed_param, mle_params, analysis_config, model_config, intervention_params, folder_path):\n",
    "    \n",
    "    folder_path.mkdir(parents=True, exist_ok=True)\n",
    "    model = md.get_tb_model(model_config, intervention_params, active_interventions=[])\n",
    "\n",
    "    if mle_params is None:\n",
    "        mle_params = ut.find_mle(model, opti_budget=analysis_config['opti_budget'])\n",
    "\n",
    "    print(f\"Running Metropolis sampling fixing {fixed_param}\")\n",
    "    idata = ut.run_sampling(model, mle_params, fixed_param, draws=analysis_config['mcmc_samples'], tune=analysis_config['mcmc_tune'], cores=analysis_config['mcmc_cores'], chains=analysis_config['mcmc_chains'])\n",
    "    idata.to_netcdf(folder_path / f\"idata_{fixed_param}.nc\")\n",
    "\n",
    "    print(f\"Running full runs fixing {fixed_param}\")\n",
    "    chain_length = idata.sample_stats.sizes['draw']\n",
    "    burnt_idata = idata.sel(draw=range(analysis_config['full_runs_burnin'], chain_length))  # Discard burn-in\n",
    "    full_run_param_samples =  az.extract(burnt_idata, num_samples=analysis_config['full_runs_samples'])\n",
    "    (folder_path / \"full_runs\").mkdir(exist_ok=True)\n",
    "    (folder_path / \"diff_output_dfs\").mkdir(exist_ok=True)\n",
    "    for intervention in [None] + list(intervention_params.keys()):\n",
    "        active_interventions = [intervention] if intervention else []\n",
    "        model = md.get_tb_model(model_config, intervention_params, active_interventions)\n",
    "        bcm = ut.get_bcm_object(model, ut.default_params | mle_params, fixed_param)\n",
    "        full_runs = esamptools.model_results_for_samples(full_run_param_samples, bcm)\n",
    "        full_runs.results.to_parquet(folder_path / \"full_runs\" / f\"fullruns_{fixed_param}_{intervention}.parquet\")\n",
    "\n",
    "        if intervention is None:\n",
    "            ref_full_runs = deepcopy(full_runs)\n",
    "        else:\n",
    "            diff_output_dfs = ut.calculate_diff_output_quantiles(ref_full_runs, full_runs)\n",
    "            diff_output_dfs.to_csv(folder_path / \"diff_output_dfs\" / f\"diff_outputs_{fixed_param}_{intervention}.csv\")\n"
   ]
  },
  {
   "cell_type": "markdown",
   "metadata": {},
   "source": [
    "### Run full scenario runs for sampled parameters"
   ]
  },
  {
   "cell_type": "code",
   "execution_count": null,
   "metadata": {},
   "outputs": [],
   "source": []
  },
  {
   "cell_type": "code",
   "execution_count": 18,
   "metadata": {},
   "outputs": [
    {
     "name": "stdout",
     "output_type": "stream",
     "text": [
      "Running Metropolis sampling fixing None\n"
     ]
    },
    {
     "name": "stderr",
     "output_type": "stream",
     "text": [
      "Only 100 samples in chain.\n",
      "Multiprocess sampling (4 chains in 4 jobs)\n",
      "DEMetropolisZ: [transmission_rate, activation_rate_early, activation_rate_late, stabilisation_rate, rr_reinfection_latent_late, rr_reinfection_recovered, self_recovery_rate, tb_death_rate, current_passive_detection_rate]\n"
     ]
    },
    {
     "data": {
      "text/html": [
       "\n",
       "<style>\n",
       "    /* Turns off some styling */\n",
       "    progress {\n",
       "        /* gets rid of default border in Firefox and Opera. */\n",
       "        border: none;\n",
       "        /* Needs to be in here for Safari polyfill so background images work as expected. */\n",
       "        background-size: auto;\n",
       "    }\n",
       "    progress:not([value]), progress:not([value])::-webkit-progress-bar {\n",
       "        background: repeating-linear-gradient(45deg, #7e7e7e, #7e7e7e 10px, #5c5c5c 10px, #5c5c5c 20px);\n",
       "    }\n",
       "    .progress-bar-interrupted, .progress-bar-interrupted::-webkit-progress-bar {\n",
       "        background: #F44336;\n",
       "    }\n",
       "</style>\n"
      ],
      "text/plain": [
       "<IPython.core.display.HTML object>"
      ]
     },
     "metadata": {},
     "output_type": "display_data"
    },
    {
     "data": {
      "text/html": [
       "\n",
       "    <div>\n",
       "      <progress value='800' class='' max='800' style='width:300px; height:20px; vertical-align: middle;'></progress>\n",
       "      100.00% [800/800 00:08&lt;00:00 Sampling 4 chains, 0 divergences]\n",
       "    </div>\n",
       "    "
      ],
      "text/plain": [
       "<IPython.core.display.HTML object>"
      ]
     },
     "metadata": {},
     "output_type": "display_data"
    },
    {
     "name": "stderr",
     "output_type": "stream",
     "text": [
      "Sampling 4 chains for 100 tune and 100 draw iterations (400 + 400 draws total) took 48 seconds.\n",
      "The rhat statistic is larger than 1.01 for some parameters. This indicates problems during sampling. See https://arxiv.org/abs/1903.08008 for details\n",
      "The effective sample size per chain is smaller than 100 for some parameters.  A higher number is needed for reliable rhat and ess computation. See https://arxiv.org/abs/1903.08008 for details\n"
     ]
    },
    {
     "name": "stdout",
     "output_type": "stream",
     "text": [
      "Running full runs fixing None\n"
     ]
    }
   ],
   "source": [
    "fixed_param = None\n",
    "analysis_config = TEST_ANALYSIS_CONFIG\n",
    "analysis_name = 'test' \n",
    "folder_path = parent_output_folder / f\"{datetime.now().strftime('%Y_%m_%d@%H_%M_%S')}_{analysis_name}_fixed_{fixed_param}\"\n",
    "\n",
    "run_analysis(fixed_param, mle_params, analysis_config, model_config, intervention_params, folder_path)"
   ]
  },
  {
   "cell_type": "code",
   "execution_count": null,
   "metadata": {},
   "outputs": [],
   "source": []
  }
 ],
 "metadata": {
  "kernelspec": {
   "display_name": "summer2",
   "language": "python",
   "name": "python3"
  },
  "language_info": {
   "codemirror_mode": {
    "name": "ipython",
    "version": 3
   },
   "file_extension": ".py",
   "mimetype": "text/x-python",
   "name": "python",
   "nbconvert_exporter": "python",
   "pygments_lexer": "ipython3",
   "version": "3.10.11"
  }
 },
 "nbformat": 4,
 "nbformat_minor": 2
}
