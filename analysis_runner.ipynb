{
 "cells": [
  {
   "cell_type": "code",
   "execution_count": null,
   "metadata": {},
   "outputs": [],
   "source": [
    "import arviz as az\n",
    "from pathlib import Path\n",
    "from datetime import datetime\n",
    "import yaml\n",
    "\n",
    "from estival.sampling import tools as esamptools\n",
    "\n",
    "import utils as ut\n",
    "import model as md\n",
    "\n",
    "output_folder = Path.cwd() / \"outputs\""
   ]
  },
  {
   "cell_type": "code",
   "execution_count": null,
   "metadata": {},
   "outputs": [],
   "source": [
    "TEST_ANALYSIS_CONFIG = {\n",
    "    'opti_budget': 100,\n",
    "\n",
    "    'mcmc_chains': 4,\n",
    "    'mcmc_cores': 4,\n",
    "    'mcmc_tune': 100,\n",
    "    'mcmc_samples': 100,\n",
    "\n",
    "    'full_runs_burnin': 50,\n",
    "    'full_runs_samples': 100,\n",
    "}\n",
    "\n",
    "FULL_ANALYSIS_CONFIG = {\n",
    "    'opti_budget': 5000,\n",
    "\n",
    "    'mcmc_chains': 4,\n",
    "    'mcmc_cores': 4,\n",
    "    'mcmc_tune': 1000,\n",
    "    'mcmc_samples': 5000,\n",
    "\n",
    "    'full_runs_burnin': 2000,\n",
    "    'full_runs_samples': 1000,\n",
    "}\n",
    "\n",
    "analysis_config = TEST_ANALYSIS_CONFIG\n",
    "analysis_name = 'test' \n",
    "folder_path = output_folder / f\"{datetime.now().strftime('%Y_%m_%d@%H_%M_%S')}_{analysis_name}\"\n",
    "folder_path.mkdir(parents=True, exist_ok=True)"
   ]
  },
  {
   "cell_type": "code",
   "execution_count": null,
   "metadata": {},
   "outputs": [],
   "source": [
    "config = {\n",
    "    \"start_time\": 1850,\n",
    "    \"end_time\": 2050,\n",
    "    \"population\": 1.e6,\n",
    "    \"seed\": 100,   \n",
    "    \"intervention_time\": 2025,\n",
    "}\n",
    "\n",
    "intervention_params = {\n",
    "    \"transmission_reduction\": {\n",
    "        \"rel_reduction\": .20\n",
    "    },\n",
    "    \"preventive_treatment\": {\n",
    "        \"rate\": .10,\n",
    "        \"efficacy\": .8\n",
    "    },\n",
    "    \"faster_detection\": {\n",
    "        \"detection_rate_mutliplier\": 2.\n",
    "    },\n",
    "    \"improved_treatment\": {\n",
    "        \"negative_outcomes_rel_reduction\": .50\n",
    "    }\n",
    "}"
   ]
  },
  {
   "cell_type": "markdown",
   "metadata": {},
   "source": [
    "# Optimisation"
   ]
  },
  {
   "cell_type": "markdown",
   "metadata": {},
   "source": [
    "### Find optimal parameter set, varying all parameters, using model with no intervention"
   ]
  },
  {
   "cell_type": "code",
   "execution_count": null,
   "metadata": {},
   "outputs": [],
   "source": [
    "model = md.get_tb_model(config, intervention_params, active_interventions=[])\n",
    "mle_params = ut.find_mle(model, opti_budget=analysis_config['opti_budget'])\n",
    "\n",
    "with open(folder_path / \"mle_params.yml\", 'w') as file:\n",
    "    yaml.dump(mle_params, file, default_flow_style=False)"
   ]
  },
  {
   "cell_type": "markdown",
   "metadata": {},
   "source": [
    "### Check optimal model fit"
   ]
  },
  {
   "cell_type": "code",
   "execution_count": null,
   "metadata": {},
   "outputs": [],
   "source": [
    "model.run(ut.default_params | mle_params)\n",
    "do = model.get_derived_outputs_df()\n",
    "do['tb_prevalence_per100k'].loc[2010:].plot()\n",
    "ut.target_data.plot(style='.',color='red')"
   ]
  },
  {
   "cell_type": "markdown",
   "metadata": {},
   "source": [
    "# Main Analysis "
   ]
  },
  {
   "cell_type": "markdown",
   "metadata": {},
   "source": [
    "### Run Metropolis sampling "
   ]
  },
  {
   "cell_type": "code",
   "execution_count": null,
   "metadata": {},
   "outputs": [],
   "source": [
    "(folder_path / \"idatas\").mkdir(parents=True, exist_ok=True)\n",
    "\n",
    "idatas = {}\n",
    "for fixed_param in [None] + [p.name for p in ut.all_priors]:\n",
    "    print(f\"Running Metropolis sampling fixing {fixed_param}\")\n",
    "    idatas[fixed_param] = ut.run_sampling(model, mle_params, fixed_param, draws=analysis_config['mcmc_samples'], tune=analysis_config['mcmc_tune'], cores=analysis_config['mcmc_cores'], chains=analysis_config['mcmc_chains'])\n",
    "    idatas[fixed_param].to_netcdf(folder_path / \"idatas\" / f\"idata_{fixed_param}.nc\")"
   ]
  },
  {
   "cell_type": "markdown",
   "metadata": {},
   "source": [
    "### Run full scenario runs for sampled parameters"
   ]
  },
  {
   "cell_type": "code",
   "execution_count": null,
   "metadata": {},
   "outputs": [],
   "source": [
    "full_runs, diff_output_dfs = {}, {}\n",
    "(folder_path / \"full_runs\").mkdir(parents=True, exist_ok=True)\n",
    "(folder_path / \"diff_output_dfs\").mkdir(parents=True, exist_ok=True)\n",
    "\n",
    "for fixed_param, idata in idatas.items():\n",
    "    print(f\"Running full runs fixing {fixed_param}\")\n",
    "    chain_length = idata.sample_stats.sizes['draw']\n",
    "    burnt_idata = idata.sel(draw=range(analysis_config['full_runs_burnin'], chain_length))  # Discard burn-in\n",
    "    full_run_param_samples =  az.extract(burnt_idata, num_samples=analysis_config['full_runs_samples'])\n",
    "\n",
    "    full_runs[fixed_param] = {}\n",
    "    diff_output_dfs[fixed_param] = {}\n",
    "    for intervention in [None] + list(intervention_params.keys()):\n",
    "        active_interventions = [intervention] if intervention else []\n",
    "        model = md.get_tb_model(config, intervention_params, active_interventions)\n",
    "        bcm = ut.get_bcm_object(model, ut.default_params | mle_params, fixed_param)\n",
    "        full_runs[fixed_param][intervention] = esamptools.model_results_for_samples(full_run_param_samples, bcm)\n",
    "        full_runs[fixed_param][intervention].results.to_parquet(folder_path / \"full_runs\" / f\"fullruns_{fixed_param}_{intervention}.parquet\")\n",
    "\n",
    "        if intervention:\n",
    "            diff_output_dfs[fixed_param][intervention] = ut.calculate_diff_output_quantiles(full_runs[fixed_param][None], full_runs[fixed_param][intervention])\n",
    "            diff_output_dfs[fixed_param][intervention].to_csv(folder_path / \"diff_output_dfs\" / f\"diff_outputs_{fixed_param}_{intervention}.csv\")\n"
   ]
  }
 ],
 "metadata": {
  "kernelspec": {
   "display_name": "summer2",
   "language": "python",
   "name": "python3"
  },
  "language_info": {
   "codemirror_mode": {
    "name": "ipython",
    "version": 3
   },
   "file_extension": ".py",
   "mimetype": "text/x-python",
   "name": "python",
   "nbconvert_exporter": "python",
   "pygments_lexer": "ipython3",
   "version": "3.10.11"
  }
 },
 "nbformat": 4,
 "nbformat_minor": 2
}
