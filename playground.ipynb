{
 "cells": [
  {
   "cell_type": "code",
   "execution_count": null,
   "metadata": {},
   "outputs": [],
   "source": [
    "import arviz as az\n",
    "\n",
    "import utils as ut\n",
    "import model as md\n",
    "\n",
    "from estival.sampling import tools as esamptools\n"
   ]
  },
  {
   "cell_type": "code",
   "execution_count": null,
   "metadata": {},
   "outputs": [],
   "source": [
    "config = {\n",
    "    \"start_time\": 1850,\n",
    "    \"end_time\": 2050,\n",
    "    \"population\": 1.e6,\n",
    "    \"seed\": 100,   \n",
    "    \"intervention_time\": 2025,\n",
    "}\n",
    "\n",
    "intervention_params = {\n",
    "    \"transmission_reduction\": {\n",
    "        \"rel_reduction\": .20\n",
    "    },\n",
    "    \"preventive_treatment\": {\n",
    "        \"rate\": .10,\n",
    "        \"efficacy\": .8\n",
    "    },\n",
    "    \"faster_detection\": {\n",
    "        \"detection_rate_mutliplier\": 2.\n",
    "    },\n",
    "    \"improved_treatment\": {\n",
    "        \"negative_outcomes_rel_reduction\": .50\n",
    "    }\n",
    "}"
   ]
  },
  {
   "cell_type": "markdown",
   "metadata": {},
   "source": [
    "# Optimisation"
   ]
  },
  {
   "cell_type": "markdown",
   "metadata": {},
   "source": [
    "### Find optimal parameter set, varying all parameters, using model with no intervention"
   ]
  },
  {
   "cell_type": "code",
   "execution_count": null,
   "metadata": {},
   "outputs": [],
   "source": [
    "model = md.get_tb_model(config, intervention_params, active_interventions=[])\n",
    "mle_params = ut.find_mle(model, opti_budget=300)"
   ]
  },
  {
   "cell_type": "markdown",
   "metadata": {},
   "source": [
    "### Check optimal model fit"
   ]
  },
  {
   "cell_type": "code",
   "execution_count": null,
   "metadata": {},
   "outputs": [],
   "source": [
    "model.run(ut.default_params | mle_params)\n",
    "do = model.get_derived_outputs_df()\n",
    "do['tb_prevalence_per100k'].loc[2010:].plot()\n",
    "ut.target_data.plot(style='.',color='red')"
   ]
  },
  {
   "cell_type": "markdown",
   "metadata": {},
   "source": [
    "# Main Analysis "
   ]
  },
  {
   "cell_type": "markdown",
   "metadata": {},
   "source": [
    "### Run Metropolis sampling "
   ]
  },
  {
   "cell_type": "code",
   "execution_count": null,
   "metadata": {},
   "outputs": [],
   "source": [
    "idatas = {}\n",
    "for fixed_param in [None] + [p.name for p in ut.all_priors]:\n",
    "    print(f\"Running Metropolis sampling fixing {fixed_param}\")\n",
    "    idatas[fixed_param] = ut.run_sampling(model, mle_params, fixed_param, draws=1000, tune=500, cores=4, chains=4)\n",
    "\n",
    "    break\n"
   ]
  },
  {
   "cell_type": "markdown",
   "metadata": {},
   "source": [
    "### Run full scenario runs for sampled parameters"
   ]
  },
  {
   "cell_type": "code",
   "execution_count": null,
   "metadata": {},
   "outputs": [],
   "source": [
    "full_runs = {}\n",
    "for fixed_param, idata in idatas.items():\n",
    "    burn_in, n_samples = 100, 1000\n",
    "    chain_length = idata.sample_stats.sizes['draw']\n",
    "    burnt_idata = idata.sel(draw=range(burn_in, chain_length))  # Discard burn-in\n",
    "    full_run_param_samples =  az.extract(burnt_idata, num_samples=n_samples)\n",
    "\n",
    "    full_runs[fixed_param] = {}\n",
    "    for intervention in [None] + list(intervention_params.keys()):\n",
    "        active_interventions = [intervention] if intervention else []\n",
    "        model = md.get_tb_model(config, intervention_params, active_interventions)\n",
    "        bcm = ut.get_bcm_object(model, ut.default_params | mle_params, fixed_param)\n",
    "        full_runs[fixed_param][intervention] = esamptools.model_results_for_samples(full_run_param_samples, bcm)\n"
   ]
  },
  {
   "cell_type": "code",
   "execution_count": null,
   "metadata": {},
   "outputs": [],
   "source": [
    "# quants = calculate_diff_output_quantiles(ref_full_runs, res)"
   ]
  },
  {
   "cell_type": "code",
   "execution_count": null,
   "metadata": {},
   "outputs": [],
   "source": []
  }
 ],
 "metadata": {
  "kernelspec": {
   "display_name": "summer2",
   "language": "python",
   "name": "python3"
  },
  "language_info": {
   "codemirror_mode": {
    "name": "ipython",
    "version": 3
   },
   "file_extension": ".py",
   "mimetype": "text/x-python",
   "name": "python",
   "nbconvert_exporter": "python",
   "pygments_lexer": "ipython3",
   "version": "3.10.11"
  }
 },
 "nbformat": 4,
 "nbformat_minor": 2
}
