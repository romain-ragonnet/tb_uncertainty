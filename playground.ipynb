{
 "cells": [
  {
   "cell_type": "code",
   "execution_count": null,
   "metadata": {},
   "outputs": [],
   "source": [
    "from model import get_tb_model"
   ]
  },
  {
   "cell_type": "code",
   "execution_count": null,
   "metadata": {},
   "outputs": [],
   "source": [
    "config = {\n",
    "    \"start_time\": 1850,\n",
    "    \"end_time\": 2050,\n",
    "    \"population\": 1.e6,\n",
    "    \"seed\": 100,   \n",
    "}\n",
    "\n",
    "model = get_tb_model(config)"
   ]
  },
  {
   "cell_type": "code",
   "execution_count": null,
   "metadata": {},
   "outputs": [],
   "source": [
    "test_params = {\n",
    "    # Planning to vary these parameters\n",
    "    'transmission_rate': 1.,\n",
    "\n",
    "    'activation_rate_early': 1.,\n",
    "    'activation_rate_late': 1.,\n",
    "    'stabilisation_rate': 1.,\n",
    "\n",
    "    'rr_reinfection_latent_late': 1.,\n",
    "    'rr_reinfection_recovered': 1.,\n",
    "\n",
    "    'self_recovery_rate': 1.,\n",
    "    'tb_death_rate': 1.,\n",
    "\n",
    "    'current_passive_detection_rate': 1.,\n",
    "\n",
    "    # Planning to fix these ones\n",
    "    'tx_duration': 0.5,\n",
    "    'tx_prop_death': .04  # WHO, among new treatment\n",
    "}\n",
    "model.run(test_params)"
   ]
  },
  {
   "cell_type": "markdown",
   "metadata": {},
   "source": [
    "# Calibration "
   ]
  },
  {
   "cell_type": "code",
   "execution_count": null,
   "metadata": {},
   "outputs": [],
   "source": [
    "from estival.model import BayesianCompartmentalModel\n",
    "from estival.wrappers import pymc as epm\n",
    "import estival.priors as esp\n",
    "import estival.targets as est\n",
    "from estival.sampling import tools as esamptools\n",
    "\n",
    "import pymc as pm\n",
    "import pandas as pd\n",
    "\n",
    "import arviz as az #For convergence stats and diagnostics\n",
    "import time\n",
    "import matplotlib .pyplot as plt"
   ]
  },
  {
   "cell_type": "code",
   "execution_count": null,
   "metadata": {},
   "outputs": [],
   "source": [
    "all_priors = [\n",
    "    esp.UniformPrior(\"transmission_rate\", [0.1, 10.]),\n",
    "    esp.UniformPrior(\"activation_rate_early\", [0., 1.]),\n",
    "    esp.UniformPrior(\"activation_rate_late\", [0., 1.]),\n",
    "    esp.UniformPrior(\"stabilisation_rate\", [0., 1.]),\n",
    "    esp.UniformPrior(\"rr_reinfection_latent_late\", [0.2, 0.5]),\n",
    "    esp.UniformPrior(\"rr_reinfection_recovered\", [0.5, 1.]),\n",
    "    esp.UniformPrior(\"self_recovery_rate\", [0., 0.5]),\n",
    "    esp.UniformPrior(\"tb_death_rate\", [0., 0.5]),\n",
    "    esp.UniformPrior(\"current_passive_detection_rate\", [0.2, 2.]),\n",
    "]\n",
    "\n",
    "target_data = pd.Series({2024: 1000.})\n",
    "\n",
    "targets = [\n",
    "    est.NormalTarget(\"tb_prevalence_per100k\", target_data , stdev=100.)\n",
    "]\n",
    "\n",
    "\n",
    "def get_bcm_object(model, all_mle_params, fixed_param_indices=[]):\n",
    "    \n",
    "    priors = [p for i, p in enumerate(all_priors) if i not in fixed_param_indices]\n",
    "    mle_params = {p.name: all_mle_params[p.name] for i, p in enumerate(all_priors) if i in fixed_param_indices}\n",
    "\n",
    "    bcm = BayesianCompartmentalModel(model, test_params | mle_params, priors, targets)\n",
    "\n",
    "    return bcm\n",
    "    "
   ]
  },
  {
   "cell_type": "markdown",
   "metadata": {},
   "source": [
    "### Optimisation"
   ]
  },
  {
   "cell_type": "code",
   "execution_count": null,
   "metadata": {},
   "outputs": [],
   "source": [
    "# Import nevergrad\n",
    "import nevergrad as ng\n",
    "\n",
    "# Import our convenience wrapper\n",
    "from estival.wrappers.nevergrad import optimize_model\n",
    "bcm = get_bcm_object(model, {}, [])\n",
    "\n",
    "orunner = optimize_model(bcm)\n",
    "rec = orunner.minimize(1000)\n",
    "all_mle_params = rec.value[1]"
   ]
  },
  {
   "cell_type": "code",
   "execution_count": null,
   "metadata": {},
   "outputs": [],
   "source": [
    "model.run(test_params | all_mle_params)\n",
    "do = model.get_derived_outputs_df()"
   ]
  },
  {
   "cell_type": "code",
   "execution_count": null,
   "metadata": {},
   "outputs": [],
   "source": [
    "do['tb_prevalence_per100k'].plot()\n",
    "target_data.plot(style='.',color='red')"
   ]
  },
  {
   "cell_type": "markdown",
   "metadata": {},
   "source": [
    "### Sampling"
   ]
  },
  {
   "cell_type": "code",
   "execution_count": null,
   "metadata": {},
   "outputs": [],
   "source": [
    "def run_sampling(model, all_mle_params, fixed_param_indices=[]):\n",
    "\n",
    "    bcm = get_bcm_object(model, all_mle_params, fixed_param_indices)\n",
    "    with pm.Model() as model:\n",
    "        variables = epm.use_model(bcm)\n",
    "        idata = pm.sample(step=[pm.DEMetropolisZ(variables)], draws=10000, tune=1000, cores=4, chains=4) \n",
    "    \n",
    "    return bcm, idata\n",
    "\n",
    "def check_sampling(bcm, idata, n_samples=1000):\n",
    "    az.plot_trace(idata)\n",
    "\n",
    "    sample_idata = az.extract(idata, num_samples = n_samples)\n",
    "    mres = esamptools.model_results_for_samples(sample_idata, bcm)\n",
    "    esamptools.quantiles_for_results(mres.results,[0.025,0.25,0.5,0.75,0.975])[\"tb_prevalence_per100k\"].loc[2010:].plot()\n",
    "    target_data.loc[2010:].plot(style='.',color='red') \n",
    "\n",
    "def get_output_values(bcm, idata, n_samples=1000):\n",
    "    sample_idata = az.extract(idata, num_samples = n_samples)\n",
    "    \n",
    "    mres = esamptools.model_results_for_samples(sample_idata, bcm)\n",
    "    output_values = mres.results['active_cases'].loc[100.]\n",
    "    \n",
    "    return output_values\n",
    "\n"
   ]
  },
  {
   "cell_type": "code",
   "execution_count": null,
   "metadata": {},
   "outputs": [],
   "source": [
    "bcm, idata = run_sampling(model, all_mle_params, fixed_param_indices=[])\n",
    "check_sampling(bcm, idata)"
   ]
  },
  {
   "cell_type": "code",
   "execution_count": null,
   "metadata": {},
   "outputs": [],
   "source": [
    "len(all_mle_params)"
   ]
  },
  {
   "cell_type": "code",
   "execution_count": null,
   "metadata": {},
   "outputs": [],
   "source": [
    "bcm_2, idata_2 = run_sampling(model, all_mle_params, fixed_param_indices=[0])\n",
    "check_sampling(bcm_2, idata_2)"
   ]
  },
  {
   "cell_type": "code",
   "execution_count": null,
   "metadata": {},
   "outputs": [],
   "source": []
  }
 ],
 "metadata": {
  "kernelspec": {
   "display_name": "summer2",
   "language": "python",
   "name": "python3"
  },
  "language_info": {
   "codemirror_mode": {
    "name": "ipython",
    "version": 3
   },
   "file_extension": ".py",
   "mimetype": "text/x-python",
   "name": "python",
   "nbconvert_exporter": "python",
   "pygments_lexer": "ipython3",
   "version": "3.10.11"
  }
 },
 "nbformat": 4,
 "nbformat_minor": 2
}
