{
 "cells": [
  {
   "cell_type": "code",
   "execution_count": null,
   "metadata": {},
   "outputs": [],
   "source": [
    "from summer2 import CompartmentalModel\n",
    "from summer2.parameters import Parameter\n",
    "from typing import List, Dict"
   ]
  },
  {
   "cell_type": "code",
   "execution_count": null,
   "metadata": {},
   "outputs": [],
   "source": [
    "def get_sir_model(config: dict):\n",
    "\n",
    "    model = CompartmentalModel(\n",
    "        times=(0.0, config[\"end_time\"]),\n",
    "        compartments=(\n",
    "            \"susceptible\", \n",
    "            \"infectious\", \n",
    "            \"recovered\",\n",
    "        ),\n",
    "        infectious_compartments=(\"infectious\",),\n",
    "    )\n",
    "    model.set_initial_population(\n",
    "        distribution=\n",
    "        {\n",
    "            \"susceptible\": config[\"population\"] - config[\"seed\"], \n",
    "            \"infectious\": config[\"seed\"],\n",
    "        },\n",
    "    )\n",
    "    \n",
    "    model.add_infection_frequency_flow(\n",
    "        name=\"infection\", \n",
    "        contact_rate=Parameter(\"contact_rate\"), \n",
    "        source=\"susceptible\", \n",
    "        dest=\"infectious\",\n",
    "    )\n",
    "    model.add_transition_flow(\n",
    "        name=\"recovery\",\n",
    "        fractional_rate=Parameter(\"recovery_rate\"),\n",
    "        source=\"infectious\",\n",
    "        dest=\"recovered\",\n",
    "    )\n",
    "    model.request_output_for_compartments(name=\"active_cases\", compartments=[\"infectious\"])\n",
    "\n",
    "    return model\n",
    "\n",
    "config = {\n",
    "    \"end_time\": 200.,\n",
    "    \"population\": 1.e6,\n",
    "    \"seed\": 100,   \n",
    "}\n",
    "\n",
    "model = get_sir_model(config)"
   ]
  },
  {
   "cell_type": "code",
   "execution_count": null,
   "metadata": {},
   "outputs": [],
   "source": [
    "test_params = {\n",
    "   \"contact_rate\": 0.2,\n",
    "   \"recovery_rate\": 0.1, \n",
    "}\n",
    "model.run(test_params)"
   ]
  },
  {
   "cell_type": "code",
   "execution_count": null,
   "metadata": {},
   "outputs": [],
   "source": [
    "import numpy as np\n",
    "output = model.get_derived_outputs_df()['active_cases']\n",
    "data = (output + pd.Series(np.random.uniform(-10000, 10000, len(output)))).iloc[50:150]\n",
    "data.name = \"active_cases\"\n",
    "data.plot()"
   ]
  },
  {
   "cell_type": "markdown",
   "metadata": {},
   "source": [
    "# Calibration "
   ]
  },
  {
   "cell_type": "code",
   "execution_count": null,
   "metadata": {},
   "outputs": [],
   "source": [
    "from estival.model import BayesianCompartmentalModel\n",
    "from estival.wrappers import pymc as epm\n",
    "import estival.priors as esp\n",
    "import estival.targets as est\n",
    "from estival.sampling import tools as esamptools\n",
    "\n",
    "import pymc as pm\n",
    "import pandas as pd\n",
    "\n",
    "import arviz as az #For convergence stats and diagnostics\n",
    "import time\n",
    "import matplotlib .pyplot as plt"
   ]
  },
  {
   "cell_type": "code",
   "execution_count": null,
   "metadata": {},
   "outputs": [],
   "source": [
    "all_priors = [\n",
    "    esp.UniformPrior(\"contact_rate\", [0.1, 0.3]),\n",
    "    esp.UniformPrior(\"recovery_rate\", [0.05, 0.2])\n",
    "]\n",
    "\n",
    "targets = [\n",
    "    est.NormalTarget(\"active_cases\", data, stdev=esp.UniformPrior(\"dispersion\", [10., 10000.]))\n",
    "]\n",
    "\n",
    "\n",
    "def get_bcm_object(model, all_mle_params, fixed_param_indices=[]):\n",
    "    \n",
    "    priors = [p for i, p in enumerate(all_priors) if i not in fixed_param_indices]\n",
    "    mle_params = {p.name: all_mle_params[p.name] for i, p in enumerate(all_priors) if i in fixed_param_indices}\n",
    "\n",
    "    bcm = BayesianCompartmentalModel(model, mle_params, priors, targets)\n",
    "\n",
    "    return bcm\n",
    "    "
   ]
  },
  {
   "cell_type": "markdown",
   "metadata": {},
   "source": [
    "### Optimisation"
   ]
  },
  {
   "cell_type": "code",
   "execution_count": null,
   "metadata": {},
   "outputs": [],
   "source": [
    "# Import nevergrad\n",
    "import nevergrad as ng\n",
    "\n",
    "# Import our convenience wrapper\n",
    "from estival.wrappers.nevergrad import optimize_model\n",
    "bcm = get_bcm_object(model, {}, [])\n",
    "\n",
    "orunner = optimize_model(bcm)\n",
    "rec = orunner.minimize(1000)\n",
    "all_mle_params = rec.value[1]"
   ]
  },
  {
   "cell_type": "code",
   "execution_count": null,
   "metadata": {},
   "outputs": [],
   "source": [
    "model.run(all_mle_params)\n",
    "model.get_derived_outputs_df().plot()\n",
    "data.plot(style='.',color='black') "
   ]
  },
  {
   "cell_type": "markdown",
   "metadata": {},
   "source": [
    "### Sampling"
   ]
  },
  {
   "cell_type": "code",
   "execution_count": null,
   "metadata": {},
   "outputs": [],
   "source": [
    "def run_sampling(model, all_mle_params, fixed_param_indices=[]):\n",
    "\n",
    "    bcm = get_bcm_object(model, all_mle_params, fixed_param_indices)\n",
    "    with pm.Model() as model:\n",
    "        variables = epm.use_model(bcm)\n",
    "        idata = pm.sample(step=[pm.DEMetropolis(variables)], draws=10000, tune=1000, cores=4, chains=4) \n",
    "    \n",
    "    return bcm, idata\n",
    "\n",
    "def check_sampling(bcm, idata, n_samples=1000):\n",
    "    az.plot_trace(idata)\n",
    "\n",
    "    sample_idata = az.extract(idata, num_samples = n_samples)\n",
    "    mres = esamptools.model_results_for_samples(sample_idata, bcm)\n",
    "    esamptools.quantiles_for_results(mres.results,[0.025,0.25,0.5,0.75,0.975])[\"active_cases\"].plot()\n",
    "    data.plot(style='.',color='black') \n",
    "\n",
    "def get_output_values(bcm, idata, n_samples=1000):\n",
    "    sample_idata = az.extract(idata, num_samples = n_samples)\n",
    "    \n",
    "    mres = esamptools.model_results_for_samples(sample_idata, bcm)\n",
    "    output_values = mres.results['active_cases'].loc[100.]\n",
    "    \n",
    "    return output_values\n",
    "\n"
   ]
  },
  {
   "cell_type": "code",
   "execution_count": null,
   "metadata": {},
   "outputs": [],
   "source": [
    "bcm, idata = run_sampling(model, all_mle_params, fixed_param_indices=[])\n",
    "check_sampling(bcm, idata)"
   ]
  },
  {
   "cell_type": "code",
   "execution_count": null,
   "metadata": {},
   "outputs": [],
   "source": [
    "bcm_2, idata_2 = run_sampling(model, all_mle_params, fixed_param_indices=[0])\n",
    "check_sampling(bcm_2, idata_2)"
   ]
  }
 ],
 "metadata": {
  "kernelspec": {
   "display_name": "summer2",
   "language": "python",
   "name": "python3"
  },
  "language_info": {
   "codemirror_mode": {
    "name": "ipython",
    "version": 3
   },
   "file_extension": ".py",
   "mimetype": "text/x-python",
   "name": "python",
   "nbconvert_exporter": "python",
   "pygments_lexer": "ipython3",
   "version": "3.10.11"
  }
 },
 "nbformat": 4,
 "nbformat_minor": 2
}
