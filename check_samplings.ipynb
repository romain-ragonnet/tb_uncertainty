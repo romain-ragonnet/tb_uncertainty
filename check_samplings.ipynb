{
 "cells": [
  {
   "cell_type": "code",
   "execution_count": null,
   "metadata": {},
   "outputs": [],
   "source": [
    "import pandas as pd\n",
    "import arviz as az\n",
    "from pathlib import Path\n",
    "from matplotlib import pyplot as plt\n",
    "\n",
    "from estival.sampling import tools as esamptools\n",
    "\n",
    "import utils as ut"
   ]
  },
  {
   "cell_type": "code",
   "execution_count": null,
   "metadata": {},
   "outputs": [],
   "source": [
    "analysis_name = \"2024_07_30@13_55_32_test\""
   ]
  },
  {
   "cell_type": "markdown",
   "metadata": {},
   "source": [
    "### Load idatas"
   ]
  },
  {
   "cell_type": "code",
   "execution_count": null,
   "metadata": {},
   "outputs": [],
   "source": [
    "idatas_folder = Path.cwd() / \"outputs\" / analysis_name / \"idatas\"\n",
    "idatas = {}\n",
    "for file_path in idatas_folder.iterdir():\n",
    "    fixed_param = str(file_path).split(\"idata_\")[1].split(\".nc\")[0]\n",
    "    if fixed_param == \"None\":\n",
    "        fixed_param = None\n",
    "    idatas[fixed_param] = az.from_netcdf(file_path)"
   ]
  },
  {
   "cell_type": "markdown",
   "metadata": {},
   "source": [
    "### Check maximum Rhats and plot traces"
   ]
  },
  {
   "cell_type": "code",
   "execution_count": null,
   "metadata": {},
   "outputs": [],
   "source": [
    "for fixed_param, idata in idatas.items():\n",
    "    max_rhat = float(az.rhat(idatas[fixed_param]).to_array().max())\n",
    "    buffer = \"\" if max_rhat > 1.1 else \"           \"\n",
    "    print(f\"{buffer}{fixed_param}: {max_rhat}\")\n",
    "    # az.plot_trace(idatas[fixed_param])"
   ]
  },
  {
   "cell_type": "markdown",
   "metadata": {},
   "source": [
    "### Load full runs and check model fits"
   ]
  },
  {
   "cell_type": "code",
   "execution_count": null,
   "metadata": {},
   "outputs": [],
   "source": [
    "full_runs_folder = Path.cwd() / \"outputs\" / analysis_name / \"full_runs\"\n",
    "\n",
    "for fixed_param, idata in idatas.items(): \n",
    "    full_runs = pd.read_parquet(full_runs_folder / f\"fullruns_{fixed_param}_None.parquet\")\n",
    "    esamptools.quantiles_for_results(full_runs, [0.025,0.25,0.5,0.75,0.975])[\"tb_prevalence_per100k\"].loc[2010:].plot()\n",
    "    ut.target_data.loc[2010:].plot(style='.',color='red') \n",
    "    plt.title(f\"Fixed param: {fixed_param}\")"
   ]
  }
 ],
 "metadata": {
  "kernelspec": {
   "display_name": "summer2",
   "language": "python",
   "name": "python3"
  },
  "language_info": {
   "codemirror_mode": {
    "name": "ipython",
    "version": 3
   },
   "file_extension": ".py",
   "mimetype": "text/x-python",
   "name": "python",
   "nbconvert_exporter": "python",
   "pygments_lexer": "ipython3",
   "version": "3.10.11"
  }
 },
 "nbformat": 4,
 "nbformat_minor": 2
}
